{
 "cells": [
  {
   "cell_type": "code",
   "execution_count": 47,
   "metadata": {},
   "outputs": [],
   "source": [
    "import pandas as pd\n",
    "pd.set_option('display.max_rows', 500)\n",
    "pd.set_option('display.max_columns', 500)\n",
    "pd.set_option('display.width', 3000)"
   ]
  },
  {
   "cell_type": "markdown",
   "metadata": {},
   "source": [
    "# Approach\n",
    "\n",
    "- First we will perform data cleaning / preprocessing\n",
    "\n",
    "- After cleaning we will perform outlier detection using statistical methods and using DBSCAN\n",
    "\n",
    "- We will apply Kmeans on data for creating clusters"
   ]
  },
  {
   "cell_type": "code",
   "execution_count": 48,
   "metadata": {},
   "outputs": [],
   "source": [
    "import pandas as pd\n",
    "df=pd.read_csv(\"../Data/diamonds.csv\")\n",
    "df_ohe=pd.get_dummies(df)\n",
    "df_ohe=df_ohe.iloc[:,1:]\n"
   ]
  },
  {
   "cell_type": "markdown",
   "metadata": {},
   "source": [
    "# Check null values"
   ]
  },
  {
   "cell_type": "markdown",
   "metadata": {},
   "source": []
  },
  {
   "cell_type": "code",
   "execution_count": 49,
   "metadata": {},
   "outputs": [
    {
     "data": {
      "text/plain": [
       "carat            0\n",
       "depth            0\n",
       "table            0\n",
       "price            0\n",
       "x                0\n",
       "y                0\n",
       "z                0\n",
       "cut_Fair         0\n",
       "cut_Good         0\n",
       "cut_Ideal        0\n",
       "cut_Premium      0\n",
       "cut_Very Good    0\n",
       "color_D          0\n",
       "color_E          0\n",
       "color_F          0\n",
       "color_G          0\n",
       "color_H          0\n",
       "color_I          0\n",
       "color_J          0\n",
       "clarity_I1       0\n",
       "clarity_IF       0\n",
       "clarity_SI1      0\n",
       "clarity_SI2      0\n",
       "clarity_VS1      0\n",
       "clarity_VS2      0\n",
       "clarity_VVS1     0\n",
       "clarity_VVS2     0\n",
       "dtype: int64"
      ]
     },
     "execution_count": 49,
     "metadata": {},
     "output_type": "execute_result"
    }
   ],
   "source": [
    "df_ohe.isnull().sum()"
   ]
  },
  {
   "cell_type": "markdown",
   "metadata": {},
   "source": [
    "# drop duplicates"
   ]
  },
  {
   "cell_type": "code",
   "execution_count": 50,
   "metadata": {},
   "outputs": [
    {
     "name": "stdout",
     "output_type": "stream",
     "text": [
      "(53940, 27)\n",
      "(53794, 27)\n"
     ]
    }
   ],
   "source": [
    "print(df_ohe.shape)\n",
    "df_ohe=df_ohe.drop_duplicates()\n",
    "print(df_ohe.shape)\n"
   ]
  },
  {
   "cell_type": "code",
   "execution_count": 51,
   "metadata": {},
   "outputs": [],
   "source": [
    "# standaradise the data\n",
    "from sklearn.preprocessing import StandardScaler\n",
    "df_ohe_std=StandardScaler().fit_transform(df_ohe)\n",
    "\n"
   ]
  },
  {
   "cell_type": "code",
   "execution_count": 52,
   "metadata": {},
   "outputs": [
    {
     "data": {
      "text/plain": [
       "[<matplotlib.lines.Line2D at 0x11432a780>]"
      ]
     },
     "execution_count": 52,
     "metadata": {},
     "output_type": "execute_result"
    },
    {
     "data": {
      "image/png": "[encoded data removed]",
      "text/plain": [
       "<Figure size 640x480 with 1 Axes>"
      ]
     },
     "metadata": {},
     "output_type": "display_data"
    }
   ],
   "source": [
    "X = df_ohe_std\n",
    "import numpy as np\n",
    "from sklearn.neighbors import NearestNeighbors\n",
    "from matplotlib import pyplot as plt\n",
    "neigh = NearestNeighbors(n_neighbors=2)\n",
    "nbrs = neigh.fit(X)\n",
    "distances, indices = nbrs.kneighbors(X)\n",
    "distances = np.sort(distances, axis=0)\n",
    "distances = distances[:,1]\n",
    "plt.plot(distances)"
   ]
  },
  {
   "cell_type": "code",
   "execution_count": 53,
   "metadata": {},
   "outputs": [
    {
     "name": "stdout",
     "output_type": "stream",
     "text": [
      "Number of clusters: 238\n",
      "no of outliers: 1400\n",
      "Outlier percentage: 2.602520727218649\n"
     ]
    }
   ],
   "source": [
    "from sklearn.cluster import DBSCAN\n",
    "# eps = 0.5 , 1 , 2 #min_samples = 10, 50, 100\n",
    "dbs = DBSCAN(eps = 2, min_samples= 10)\n",
    "y_pred = dbs.fit_predict(X)\n",
    "import numpy as np\n",
    "print(f'Number of clusters: {len(set(y_pred[np.where(y_pred != -1)]))}')\n",
    "print(f\"no of outliers: {len(y_pred[np.where(y_pred==-1)])}\")\n",
    "print(\"Outlier percentage:\",len(y_pred[np.where(y_pred == -1)]) / y_pred.shape[0] * 100)"
   ]
  },
  {
   "cell_type": "markdown",
   "metadata": {},
   "source": [
    "# Stestical method of outlier detection"
   ]
  },
  {
   "cell_type": "markdown",
   "metadata": {},
   "source": [
    "# z score (Standard scalar)"
   ]
  },
  {
   "cell_type": "markdown",
   "metadata": {},
   "source": [
    "### After standard scaler our assumption is 99% is between -3 to +3\n",
    "\n",
    "- so values less than -3 and greater than +3 are considered as outlier\n",
    "\n",
    "- We are going to impute the outliers\n",
    "- when value < -3 then replace with -3\n",
    "- when value greater than +3 then replace with +3\n",
    "\n",
    "Write python code  to perform impute operation on every column one by one"
   ]
  },
  {
   "cell_type": "code",
   "execution_count": 54,
   "metadata": {},
   "outputs": [
    {
     "name": "stdout",
     "output_type": "stream",
     "text": [
      "          carat     depth     table     price         x         y         z  cut_Fair  cut_Good  cut_Ideal  cut_Premium  cut_Very Good   color_D   color_E   color_F   color_G   color_H   color_I   color_J  clarity_I1  clarity_IF  clarity_SI1  clarity_SI2  clarity_VS1  clarity_VS2  clarity_VVS1  clarity_VVS2\n",
      "0     -1.199391 -0.173493 -1.100475 -0.904454 -1.589384 -1.537539 -1.572560 -0.174971 -0.316247   1.226139    -0.585917      -0.537816 -0.378948  2.121927 -0.463703 -0.514572 -0.426276 -0.334280 -0.234412   -0.118101   -0.185204    -0.565423     2.208854    -0.422738     -0.54241     -0.269675     -0.322081\n",
      "1     -1.241640 -1.362380  1.585676 -0.904454 -1.642922 -1.660216 -1.742764 -0.174971 -0.316247  -0.815553     1.706694      -0.537816 -0.378948  2.121927 -0.463703 -0.514572 -0.426276 -0.334280 -0.234412   -0.118101   -0.185204     1.768553    -0.452715    -0.422738     -0.54241     -0.269675     -0.322081\n",
      "2     -1.199391 -3.000000  3.000000 -0.904203 -1.500154 -1.458675 -1.742764 -0.174971  3.000000  -0.815553    -0.585917      -0.537816 -0.378948  2.121927 -0.463703 -0.514572 -0.426276 -0.334280 -0.234412   -0.118101   -0.185204    -0.565423    -0.452715     2.365487     -0.54241     -0.269675     -0.322081\n",
      "3     -1.072646  0.455917  0.242600 -0.902448 -1.366308 -1.318473 -1.288887 -0.174971 -0.316247  -0.815553     1.706694      -0.537816 -0.378948 -0.471261 -0.463703 -0.514572 -0.426276  2.991453 -0.234412   -0.118101   -0.185204    -0.565423    -0.452715    -0.422738      1.84359     -0.269675     -0.322081\n",
      "4     -1.030397  1.085328  0.242600 -0.902197 -1.241386 -1.213321 -1.118683 -0.174971  3.000000  -0.815553    -0.585917      -0.537816 -0.378948 -0.471261 -0.463703 -0.514572 -0.426276 -0.334280  3.000000   -0.118101   -0.185204    -0.565423     2.208854    -0.422738     -0.54241     -0.269675     -0.322081\n",
      "...         ...       ...       ...       ...       ...       ...       ...       ...       ...        ...          ...            ...       ...       ...       ...       ...       ...       ...       ...         ...         ...          ...          ...          ...          ...           ...           ...\n",
      "53935 -0.164304 -0.663035 -0.205092 -0.294893  0.016762  0.022210 -0.054910 -0.174971 -0.316247   1.226139    -0.585917      -0.537816  2.638836 -0.471261 -0.463703 -0.514572 -0.426276 -0.334280 -0.234412   -0.118101   -0.185204     1.768553    -0.452715    -0.422738     -0.54241     -0.269675     -0.322081\n",
      "53936 -0.164304  0.945459 -1.100475 -0.294893 -0.036776  0.013448  0.101110 -0.174971  3.000000  -0.815553    -0.585917      -0.537816  2.638836 -0.471261 -0.463703 -0.514572 -0.426276 -0.334280 -0.234412   -0.118101   -0.185204     1.768553    -0.452715    -0.422738     -0.54241     -0.269675     -0.322081\n",
      "53937 -0.206553  0.735655  1.137984 -0.294893 -0.063545 -0.047891  0.030192 -0.174971 -0.316247  -0.815553    -0.585917       1.859339  2.638836 -0.471261 -0.463703 -0.514572 -0.426276 -0.334280 -0.234412   -0.118101   -0.185204     1.768553    -0.452715    -0.422738     -0.54241     -0.269675     -0.322081\n",
      "53938  0.131435 -0.523166  0.242600 -0.294893  0.373684  0.337665  0.285497 -0.174971 -0.316247  -0.815553     1.706694      -0.537816 -0.378948 -0.471261 -0.463703 -0.514572  2.345856 -0.334280 -0.234412   -0.118101   -0.185204    -0.565423     2.208854    -0.422738     -0.54241     -0.269675     -0.322081\n",
      "53939 -0.100932  0.316048 -1.100475 -0.294893  0.088147  0.118599  0.143661 -0.174971 -0.316247   1.226139    -0.585917      -0.537816  2.638836 -0.471261 -0.463703 -0.514572 -0.426276 -0.334280 -0.234412   -0.118101   -0.185204    -0.565423     2.208854    -0.422738     -0.54241     -0.269675     -0.322081\n",
      "\n",
      "[53794 rows x 27 columns]\n"
     ]
    }
   ],
   "source": [
    "def impute_outlier_std(df,col):\n",
    "    df.loc[df[col]>3, col] =3\n",
    "    df.loc[df[col]<-3, col] =-3\n",
    "    return df\n",
    "\n",
    "df_ohe_std=(df_ohe-df_ohe.mean())/df_ohe.std()\n",
    "df_impute = df_ohe_std.copy()\n",
    "for col in df_impute.columns:\n",
    "    df_impute = impute_outlier_std(df_impute,col)\n",
    "\n",
    "print(df_impute)"
   ]
  },
  {
   "cell_type": "markdown",
   "metadata": {},
   "source": [
    "# IQR\n"
   ]
  },
  {
   "cell_type": "markdown",
   "metadata": {},
   "source": []
  },
  {
   "cell_type": "code",
   "execution_count": 55,
   "metadata": {},
   "outputs": [
    {
     "data": {
      "text/html": [
       "<div>\n",
       "<style scoped>\n",
       "    .dataframe tbody tr th:only-of-type {\n",
       "        vertical-align: middle;\n",
       "    }\n",
       "\n",
       "    .dataframe tbody tr th {\n",
       "        vertical-align: top;\n",
       "    }\n",
       "\n",
       "    .dataframe thead th {\n",
       "        text-align: right;\n",
       "    }\n",
       "</style>\n",
       "<table border=\"1\" class=\"dataframe\">\n",
       "  <thead>\n",
       "    <tr style=\"text-align: right;\">\n",
       "      <th></th>\n",
       "      <th>carat</th>\n",
       "      <th>depth</th>\n",
       "      <th>table</th>\n",
       "      <th>price</th>\n",
       "      <th>x</th>\n",
       "      <th>y</th>\n",
       "      <th>z</th>\n",
       "      <th>cut_Fair</th>\n",
       "      <th>cut_Good</th>\n",
       "      <th>cut_Ideal</th>\n",
       "      <th>cut_Premium</th>\n",
       "      <th>cut_Very Good</th>\n",
       "      <th>color_D</th>\n",
       "      <th>color_E</th>\n",
       "      <th>color_F</th>\n",
       "      <th>color_G</th>\n",
       "      <th>color_H</th>\n",
       "      <th>color_I</th>\n",
       "      <th>color_J</th>\n",
       "      <th>clarity_I1</th>\n",
       "      <th>clarity_IF</th>\n",
       "      <th>clarity_SI1</th>\n",
       "      <th>clarity_SI2</th>\n",
       "      <th>clarity_VS1</th>\n",
       "      <th>clarity_VS2</th>\n",
       "      <th>clarity_VVS1</th>\n",
       "      <th>clarity_VVS2</th>\n",
       "    </tr>\n",
       "  </thead>\n",
       "  <tbody>\n",
       "    <tr>\n",
       "      <th>count</th>\n",
       "      <td>53794.000000</td>\n",
       "      <td>53794.000000</td>\n",
       "      <td>53794.000000</td>\n",
       "      <td>53794.000000</td>\n",
       "      <td>53794.000000</td>\n",
       "      <td>53794.000000</td>\n",
       "      <td>53794.000000</td>\n",
       "      <td>5.379400e+04</td>\n",
       "      <td>5.379400e+04</td>\n",
       "      <td>5.379400e+04</td>\n",
       "      <td>5.379400e+04</td>\n",
       "      <td>5.379400e+04</td>\n",
       "      <td>53794.000000</td>\n",
       "      <td>5.379400e+04</td>\n",
       "      <td>53794.000000</td>\n",
       "      <td>5.379400e+04</td>\n",
       "      <td>5.379400e+04</td>\n",
       "      <td>5.379400e+04</td>\n",
       "      <td>5.379400e+04</td>\n",
       "      <td>5.379400e+04</td>\n",
       "      <td>5.379400e+04</td>\n",
       "      <td>53794.000000</td>\n",
       "      <td>5.379400e+04</td>\n",
       "      <td>5.379400e+04</td>\n",
       "      <td>5.379400e+04</td>\n",
       "      <td>53794.000000</td>\n",
       "      <td>53794.000000</td>\n",
       "    </tr>\n",
       "    <tr>\n",
       "      <th>mean</th>\n",
       "      <td>-0.011216</td>\n",
       "      <td>0.000023</td>\n",
       "      <td>-0.008281</td>\n",
       "      <td>-0.050177</td>\n",
       "      <td>0.000082</td>\n",
       "      <td>-0.001100</td>\n",
       "      <td>-0.000369</td>\n",
       "      <td>-1.749709e-01</td>\n",
       "      <td>-3.162475e-01</td>\n",
       "      <td>-9.721520e-17</td>\n",
       "      <td>8.559164e-17</td>\n",
       "      <td>-5.378156e-01</td>\n",
       "      <td>-0.378948</td>\n",
       "      <td>-4.712609e-01</td>\n",
       "      <td>-0.463703</td>\n",
       "      <td>-5.145716e-01</td>\n",
       "      <td>-4.262757e-01</td>\n",
       "      <td>-3.342795e-01</td>\n",
       "      <td>-2.344115e-01</td>\n",
       "      <td>-1.181008e-01</td>\n",
       "      <td>-1.852038e-01</td>\n",
       "      <td>-0.565423</td>\n",
       "      <td>-4.527151e-01</td>\n",
       "      <td>-4.227380e-01</td>\n",
       "      <td>-5.424098e-01</td>\n",
       "      <td>-0.269675</td>\n",
       "      <td>-0.322081</td>\n",
       "    </tr>\n",
       "    <tr>\n",
       "      <th>std</th>\n",
       "      <td>0.964730</td>\n",
       "      <td>0.887918</td>\n",
       "      <td>0.967457</td>\n",
       "      <td>0.861738</td>\n",
       "      <td>0.998522</td>\n",
       "      <td>0.973594</td>\n",
       "      <td>0.981272</td>\n",
       "      <td>5.551167e-17</td>\n",
       "      <td>5.551167e-17</td>\n",
       "      <td>1.000000e+00</td>\n",
       "      <td>1.000000e+00</td>\n",
       "      <td>1.110233e-16</td>\n",
       "      <td>0.000000</td>\n",
       "      <td>3.330700e-16</td>\n",
       "      <td>0.000000</td>\n",
       "      <td>1.110233e-16</td>\n",
       "      <td>1.110233e-16</td>\n",
       "      <td>1.110233e-16</td>\n",
       "      <td>1.110233e-16</td>\n",
       "      <td>4.163375e-17</td>\n",
       "      <td>2.775583e-17</td>\n",
       "      <td>0.000000</td>\n",
       "      <td>1.665350e-16</td>\n",
       "      <td>5.551167e-17</td>\n",
       "      <td>2.220467e-16</td>\n",
       "      <td>0.000000</td>\n",
       "      <td>0.000000</td>\n",
       "    </tr>\n",
       "    <tr>\n",
       "      <th>min</th>\n",
       "      <td>-1.262764</td>\n",
       "      <td>-2.096692</td>\n",
       "      <td>-2.667397</td>\n",
       "      <td>-0.904454</td>\n",
       "      <td>-3.360607</td>\n",
       "      <td>-3.281303</td>\n",
       "      <td>-3.274597</td>\n",
       "      <td>-1.749709e-01</td>\n",
       "      <td>-3.162475e-01</td>\n",
       "      <td>-8.155533e-01</td>\n",
       "      <td>-5.859171e-01</td>\n",
       "      <td>-5.378156e-01</td>\n",
       "      <td>-0.378948</td>\n",
       "      <td>-4.712609e-01</td>\n",
       "      <td>-0.463703</td>\n",
       "      <td>-5.145716e-01</td>\n",
       "      <td>-4.262757e-01</td>\n",
       "      <td>-3.342795e-01</td>\n",
       "      <td>-2.344115e-01</td>\n",
       "      <td>-1.181008e-01</td>\n",
       "      <td>-1.852038e-01</td>\n",
       "      <td>-0.565423</td>\n",
       "      <td>-4.527151e-01</td>\n",
       "      <td>-4.227380e-01</td>\n",
       "      <td>-5.424098e-01</td>\n",
       "      <td>-0.269675</td>\n",
       "      <td>-0.322081</td>\n",
       "    </tr>\n",
       "    <tr>\n",
       "      <th>25%</th>\n",
       "      <td>-0.840279</td>\n",
       "      <td>-0.523166</td>\n",
       "      <td>-0.652783</td>\n",
       "      <td>-0.747738</td>\n",
       "      <td>-0.911233</td>\n",
       "      <td>-0.889104</td>\n",
       "      <td>-0.891745</td>\n",
       "      <td>-1.749709e-01</td>\n",
       "      <td>-3.162475e-01</td>\n",
       "      <td>-8.155533e-01</td>\n",
       "      <td>-5.859171e-01</td>\n",
       "      <td>-5.378156e-01</td>\n",
       "      <td>-0.378948</td>\n",
       "      <td>-4.712609e-01</td>\n",
       "      <td>-0.463703</td>\n",
       "      <td>-5.145716e-01</td>\n",
       "      <td>-4.262757e-01</td>\n",
       "      <td>-3.342795e-01</td>\n",
       "      <td>-2.344115e-01</td>\n",
       "      <td>-1.181008e-01</td>\n",
       "      <td>-1.852038e-01</td>\n",
       "      <td>-0.565423</td>\n",
       "      <td>-4.527151e-01</td>\n",
       "      <td>-4.227380e-01</td>\n",
       "      <td>-5.424098e-01</td>\n",
       "      <td>-0.269675</td>\n",
       "      <td>-0.322081</td>\n",
       "    </tr>\n",
       "    <tr>\n",
       "      <th>50%</th>\n",
       "      <td>-0.206553</td>\n",
       "      <td>0.036310</td>\n",
       "      <td>-0.205092</td>\n",
       "      <td>-0.384158</td>\n",
       "      <td>-0.027853</td>\n",
       "      <td>-0.021603</td>\n",
       "      <td>-0.012359</td>\n",
       "      <td>-1.749709e-01</td>\n",
       "      <td>-3.162475e-01</td>\n",
       "      <td>-8.155533e-01</td>\n",
       "      <td>-5.859171e-01</td>\n",
       "      <td>-5.378156e-01</td>\n",
       "      <td>-0.378948</td>\n",
       "      <td>-4.712609e-01</td>\n",
       "      <td>-0.463703</td>\n",
       "      <td>-5.145716e-01</td>\n",
       "      <td>-4.262757e-01</td>\n",
       "      <td>-3.342795e-01</td>\n",
       "      <td>-2.344115e-01</td>\n",
       "      <td>-1.181008e-01</td>\n",
       "      <td>-1.852038e-01</td>\n",
       "      <td>-0.565423</td>\n",
       "      <td>-4.527151e-01</td>\n",
       "      <td>-4.227380e-01</td>\n",
       "      <td>-5.424098e-01</td>\n",
       "      <td>-0.269675</td>\n",
       "      <td>-0.322081</td>\n",
       "    </tr>\n",
       "    <tr>\n",
       "      <th>75%</th>\n",
       "      <td>0.511671</td>\n",
       "      <td>0.525852</td>\n",
       "      <td>0.690292</td>\n",
       "      <td>0.349460</td>\n",
       "      <td>0.721682</td>\n",
       "      <td>0.705696</td>\n",
       "      <td>0.696823</td>\n",
       "      <td>-1.749709e-01</td>\n",
       "      <td>-3.162475e-01</td>\n",
       "      <td>1.226139e+00</td>\n",
       "      <td>1.706694e+00</td>\n",
       "      <td>-5.378156e-01</td>\n",
       "      <td>-0.378948</td>\n",
       "      <td>-4.712609e-01</td>\n",
       "      <td>-0.463703</td>\n",
       "      <td>-5.145716e-01</td>\n",
       "      <td>-4.262757e-01</td>\n",
       "      <td>-3.342795e-01</td>\n",
       "      <td>-2.344115e-01</td>\n",
       "      <td>-1.181008e-01</td>\n",
       "      <td>-1.852038e-01</td>\n",
       "      <td>-0.565423</td>\n",
       "      <td>-4.527151e-01</td>\n",
       "      <td>-4.227380e-01</td>\n",
       "      <td>-5.424098e-01</td>\n",
       "      <td>-0.269675</td>\n",
       "      <td>-0.322081</td>\n",
       "    </tr>\n",
       "    <tr>\n",
       "      <th>max</th>\n",
       "      <td>2.539596</td>\n",
       "      <td>2.099378</td>\n",
       "      <td>2.704906</td>\n",
       "      <td>1.995256</td>\n",
       "      <td>3.171056</td>\n",
       "      <td>3.097895</td>\n",
       "      <td>3.079675</td>\n",
       "      <td>-1.749709e-01</td>\n",
       "      <td>-3.162475e-01</td>\n",
       "      <td>1.226139e+00</td>\n",
       "      <td>1.706694e+00</td>\n",
       "      <td>-5.378156e-01</td>\n",
       "      <td>-0.378948</td>\n",
       "      <td>-4.712609e-01</td>\n",
       "      <td>-0.463703</td>\n",
       "      <td>-5.145716e-01</td>\n",
       "      <td>-4.262757e-01</td>\n",
       "      <td>-3.342795e-01</td>\n",
       "      <td>-2.344115e-01</td>\n",
       "      <td>-1.181008e-01</td>\n",
       "      <td>-1.852038e-01</td>\n",
       "      <td>-0.565423</td>\n",
       "      <td>-4.527151e-01</td>\n",
       "      <td>-4.227380e-01</td>\n",
       "      <td>-5.424098e-01</td>\n",
       "      <td>-0.269675</td>\n",
       "      <td>-0.322081</td>\n",
       "    </tr>\n",
       "  </tbody>\n",
       "</table>\n",
       "</div>"
      ],
      "text/plain": [
       "              carat         depth         table         price             x             y             z      cut_Fair      cut_Good     cut_Ideal   cut_Premium  cut_Very Good       color_D       color_E       color_F       color_G       color_H       color_I       color_J    clarity_I1    clarity_IF   clarity_SI1   clarity_SI2   clarity_VS1   clarity_VS2  clarity_VVS1  clarity_VVS2\n",
       "count  53794.000000  53794.000000  53794.000000  53794.000000  53794.000000  53794.000000  53794.000000  5.379400e+04  5.379400e+04  5.379400e+04  5.379400e+04   5.379400e+04  53794.000000  5.379400e+04  53794.000000  5.379400e+04  5.379400e+04  5.379400e+04  5.379400e+04  5.379400e+04  5.379400e+04  53794.000000  5.379400e+04  5.379400e+04  5.379400e+04  53794.000000  53794.000000\n",
       "mean      -0.011216      0.000023     -0.008281     -0.050177      0.000082     -0.001100     -0.000369 -1.749709e-01 -3.162475e-01 -9.721520e-17  8.559164e-17  -5.378156e-01     -0.378948 -4.712609e-01     -0.463703 -5.145716e-01 -4.262757e-01 -3.342795e-01 -2.344115e-01 -1.181008e-01 -1.852038e-01     -0.565423 -4.527151e-01 -4.227380e-01 -5.424098e-01     -0.269675     -0.322081\n",
       "std        0.964730      0.887918      0.967457      0.861738      0.998522      0.973594      0.981272  5.551167e-17  5.551167e-17  1.000000e+00  1.000000e+00   1.110233e-16      0.000000  3.330700e-16      0.000000  1.110233e-16  1.110233e-16  1.110233e-16  1.110233e-16  4.163375e-17  2.775583e-17      0.000000  1.665350e-16  5.551167e-17  2.220467e-16      0.000000      0.000000\n",
       "min       -1.262764     -2.096692     -2.667397     -0.904454     -3.360607     -3.281303     -3.274597 -1.749709e-01 -3.162475e-01 -8.155533e-01 -5.859171e-01  -5.378156e-01     -0.378948 -4.712609e-01     -0.463703 -5.145716e-01 -4.262757e-01 -3.342795e-01 -2.344115e-01 -1.181008e-01 -1.852038e-01     -0.565423 -4.527151e-01 -4.227380e-01 -5.424098e-01     -0.269675     -0.322081\n",
       "25%       -0.840279     -0.523166     -0.652783     -0.747738     -0.911233     -0.889104     -0.891745 -1.749709e-01 -3.162475e-01 -8.155533e-01 -5.859171e-01  -5.378156e-01     -0.378948 -4.712609e-01     -0.463703 -5.145716e-01 -4.262757e-01 -3.342795e-01 -2.344115e-01 -1.181008e-01 -1.852038e-01     -0.565423 -4.527151e-01 -4.227380e-01 -5.424098e-01     -0.269675     -0.322081\n",
       "50%       -0.206553      0.036310     -0.205092     -0.384158     -0.027853     -0.021603     -0.012359 -1.749709e-01 -3.162475e-01 -8.155533e-01 -5.859171e-01  -5.378156e-01     -0.378948 -4.712609e-01     -0.463703 -5.145716e-01 -4.262757e-01 -3.342795e-01 -2.344115e-01 -1.181008e-01 -1.852038e-01     -0.565423 -4.527151e-01 -4.227380e-01 -5.424098e-01     -0.269675     -0.322081\n",
       "75%        0.511671      0.525852      0.690292      0.349460      0.721682      0.705696      0.696823 -1.749709e-01 -3.162475e-01  1.226139e+00  1.706694e+00  -5.378156e-01     -0.378948 -4.712609e-01     -0.463703 -5.145716e-01 -4.262757e-01 -3.342795e-01 -2.344115e-01 -1.181008e-01 -1.852038e-01     -0.565423 -4.527151e-01 -4.227380e-01 -5.424098e-01     -0.269675     -0.322081\n",
       "max        2.539596      2.099378      2.704906      1.995256      3.171056      3.097895      3.079675 -1.749709e-01 -3.162475e-01  1.226139e+00  1.706694e+00  -5.378156e-01     -0.378948 -4.712609e-01     -0.463703 -5.145716e-01 -4.262757e-01 -3.342795e-01 -2.344115e-01 -1.181008e-01 -1.852038e-01     -0.565423 -4.527151e-01 -4.227380e-01 -5.424098e-01     -0.269675     -0.322081"
      ]
     },
     "execution_count": 55,
     "metadata": {},
     "output_type": "execute_result"
    }
   ],
   "source": [
    "def impute_outlier_iqr(df,col):\n",
    "    q1,q3 = df[col].quantile([0.25,0.75])\n",
    "    iqr = q3 -q1\n",
    "    min_val_value = q1 - 1.5 * iqr\n",
    "    max_val_value = q3 + 1.5 * iqr\n",
    "\n",
    "    df.loc[df[col]>max_val_value, col] =max_val_value\n",
    "    df.loc[df[col]<min_val_value, col] =min_val_value\n",
    "    return df\n",
    "\n",
    "df_imput_iqr=df_ohe_std.copy()\n",
    "for col in df_imput_iqr.columns:\n",
    "    df_imput_iqr=impute_outlier_iqr(df_imput_iqr,col)\n",
    "\n",
    "df_imput_iqr.describe()"
   ]
  }
 ],
 "metadata": {
  "kernelspec": {
   "display_name": "myenv",
   "language": "python",
   "name": "python3"
  },
  "language_info": {
   "codemirror_mode": {
    "name": "ipython",
    "version": 3
   },
   "file_extension": ".py",
   "mimetype": "text/x-python",
   "name": "python",
   "nbconvert_exporter": "python",
   "pygments_lexer": "ipython3",
   "version": "3.12.6"
  }
 },
 "nbformat": 4,
 "nbformat_minor": 2
}
