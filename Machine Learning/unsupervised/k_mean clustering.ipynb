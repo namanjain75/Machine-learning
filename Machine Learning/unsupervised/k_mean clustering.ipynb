{
 "cells": [
  {
   "cell_type": "markdown",
   "metadata": {},
   "source": [
    "# K_Mean Clustering"
   ]
  },
  {
   "cell_type": "code",
   "execution_count": 1,
   "metadata": {},
   "outputs": [
    {
     "name": "stdout",
     "output_type": "stream",
     "text": [
      "<class 'pandas.core.frame.DataFrame'>\n",
      "RangeIndex: 53940 entries, 0 to 53939\n",
      "Data columns (total 11 columns):\n",
      " #   Column      Non-Null Count  Dtype  \n",
      "---  ------      --------------  -----  \n",
      " 0   Unnamed: 0  53940 non-null  int64  \n",
      " 1   carat       53940 non-null  float64\n",
      " 2   cut         53940 non-null  object \n",
      " 3   color       53940 non-null  object \n",
      " 4   clarity     53940 non-null  object \n",
      " 5   depth       53940 non-null  float64\n",
      " 6   table       53940 non-null  float64\n",
      " 7   price       53940 non-null  int64  \n",
      " 8   x           53940 non-null  float64\n",
      " 9   y           53940 non-null  float64\n",
      " 10  z           53940 non-null  float64\n",
      "dtypes: float64(6), int64(2), object(3)\n",
      "memory usage: 4.5+ MB\n"
     ]
    },
    {
     "data": {
      "text/plain": [
       "(53940, 27)"
      ]
     },
     "execution_count": 1,
     "metadata": {},
     "output_type": "execute_result"
    }
   ],
   "source": [
    "# Importing the dataset\n",
    "import pandas as pd\n",
    "\n",
    "df=pd.read_csv('../../Data/diamonds.csv')\n",
    "# Data preporcessing steps\n",
    "df.info() # no null values\n",
    "df_ohe=pd.get_dummies(df)\n",
    "#df_ohe=pd.get_dummies(df,columns=['carat','cut','color'],drop_first=True) # Humko columns ki values paar nahi pure data paar karna hai \n",
    "df_ohe.shape\n",
    "#df_ohe # Theri is a beker column for us unnammeded\n",
    "df_ohe.drop('Unnamed: 0',axis=1) # Not working for this data set i don't know why\n",
    "df_ohe=df_ohe.iloc[:,1:]\n",
    "df_ohe.shape\n",
    "\n"
   ]
  },
  {
   "cell_type": "markdown",
   "metadata": {},
   "source": [
    "# Apply Kmean Algoritherm"
   ]
  },
  {
   "cell_type": "code",
   "execution_count": 29,
   "metadata": {},
   "outputs": [],
   "source": [
    "X=df_ohe\n",
    "\n",
    "# now we have to train and test split data\n",
    "#0.3 means 70 percent train data and 30 percent test data\n",
    "from sklearn.model_selection import train_test_split\n",
    "X_train,X_test=train_test_split(X,train_size=0.3,random_state=7)"
   ]
  },
  {
   "cell_type": "code",
   "execution_count": 48,
   "metadata": {},
   "outputs": [
    {
     "name": "stdout",
     "output_type": "stream",
     "text": [
      "[0 1 0 ... 0 0 2]\n",
      "Cluster 0 (23182, 27)\n",
      "Cluster 1 (3901, 27)\n",
      "Cluster 2 (10675, 27)\n"
     ]
    }
   ],
   "source": [
    "# import model\n",
    "from sklearn.cluster import KMeans\n",
    "mykmean=KMeans(3,random_state=7)\n",
    "mykmean.fit(X_train)\n",
    "clusterno=mykmean.predict(X_test)\n",
    "print(clusterno)\n",
    "\n",
    "print(\"Cluster 0\",X_test.loc[clusterno==0].shape)\n",
    "print(\"Cluster 1\",X_test.loc[clusterno==2].shape)\n",
    "print(\"Cluster 2\",X_test.loc[clusterno==1].shape)\n",
    "\n",
    "\n"
   ]
  },
  {
   "cell_type": "markdown",
   "metadata": {},
   "source": [
    "# Deciding The value of k Value Generally 2-10 \n",
    "- wcss plotting means inertia_value of graph plot"
   ]
  },
  {
   "cell_type": "code",
   "execution_count": 42,
   "metadata": {},
   "outputs": [
    {
     "data": {
      "text/plain": [
       "[73839536872.03833,\n",
       " 31617092541.758873,\n",
       " 17269029688.939846,\n",
       " 11256630149.789295,\n",
       " 7522290548.666677,\n",
       " 5439475892.341574,\n",
       " 4275351459.712434,\n",
       " 3369044080.8786335,\n",
       " 2737665554.339264]"
      ]
     },
     "execution_count": 42,
     "metadata": {},
     "output_type": "execute_result"
    }
   ],
   "source": [
    "inertia_values=[]\n",
    "for k in range(2,11):\n",
    "    kmean=KMeans(k,random_state=7)\n",
    "    kmean.fit(X_train)\n",
    "    inertia_values.append(kmean.inertia_)\n",
    "\n",
    "inertia_values"
   ]
  },
  {
   "cell_type": "markdown",
   "metadata": {},
   "source": [
    "Ploting the graph"
   ]
  },
  {
   "cell_type": "code",
   "execution_count": 44,
   "metadata": {},
   "outputs": [
    {
     "data": {
      "text/plain": [
       "[<matplotlib.lines.Line2D at 0x13aae4620>]"
      ]
     },
     "execution_count": 44,
     "metadata": {},
     "output_type": "execute_result"
    },
    {
     "data": {
      "image/png": "[encoded data removed]",
      "text/plain": [
       "<Figure size 640x480 with 1 Axes>"
      ]
     },
     "metadata": {},
     "output_type": "display_data"
    }
   ],
   "source": [
    "import matplotlib.pyplot as plt\n",
    "plt.plot(list(range(2,11)),inertia_values)"
   ]
  },
  {
   "cell_type": "markdown",
   "metadata": {},
   "source": [
    "Fromm the above graph we can set the value as 3 or 4 as theris is a bend"
   ]
  },
  {
   "cell_type": "markdown",
   "metadata": {},
   "source": [
    "Evaluate The parameters accuracty using silhouette_score"
   ]
  },
  {
   "cell_type": "markdown",
   "metadata": {},
   "source": []
  },
  {
   "cell_type": "code",
   "execution_count": null,
   "metadata": {},
   "outputs": [
    {
     "data": {
      "text/plain": [
       "np.float64(0.6619900211852966)"
      ]
     },
     "execution_count": 49,
     "metadata": {},
     "output_type": "execute_result"
    }
   ],
   "source": [
    "from sklearn.metrics import silhouette_score\n",
    "silhouette_score(X_test,clusterno) # we are havving better sihouette_score on k =3"
   ]
  },
  {
   "cell_type": "code",
   "execution_count": null,
   "metadata": {},
   "outputs": [],
   "source": []
  }
 ],
 "metadata": {
  "kernelspec": {
   "display_name": "myenv",
   "language": "python",
   "name": "python3"
  },
  "language_info": {
   "codemirror_mode": {
    "name": "ipython",
    "version": 3
   },
   "file_extension": ".py",
   "mimetype": "text/x-python",
   "name": "python",
   "nbconvert_exporter": "python",
   "pygments_lexer": "ipython3",
   "version": "3.12.6"
  }
 },
 "nbformat": 4,
 "nbformat_minor": 2
}
