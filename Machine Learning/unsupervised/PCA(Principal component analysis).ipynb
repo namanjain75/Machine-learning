{
 "cells": [
  {
   "cell_type": "markdown",
   "metadata": {},
   "source": [
    "# Pca"
   ]
  },
  {
   "cell_type": "code",
   "execution_count": null,
   "metadata": {},
   "outputs": [
    {
     "name": "stdout",
     "output_type": "stream",
     "text": [
      "<class 'pandas.core.frame.DataFrame'>\n",
      "RangeIndex: 53940 entries, 0 to 53939\n",
      "Data columns (total 11 columns):\n",
      " #   Column      Non-Null Count  Dtype  \n",
      "---  ------      --------------  -----  \n",
      " 0   Unnamed: 0  53940 non-null  int64  \n",
      " 1   carat       53940 non-null  float64\n",
      " 2   cut         53940 non-null  object \n",
      " 3   color       53940 non-null  object \n",
      " 4   clarity     53940 non-null  object \n",
      " 5   depth       53940 non-null  float64\n",
      " 6   table       53940 non-null  float64\n",
      " 7   price       53940 non-null  int64  \n",
      " 8   x           53940 non-null  float64\n",
      " 9   y           53940 non-null  float64\n",
      " 10  z           53940 non-null  float64\n",
      "dtypes: float64(6), int64(2), object(3)\n",
      "memory usage: 4.5+ MB\n",
      "None\n"
     ]
    },
    {
     "data": {
      "text/plain": [
       "(53940, 27)"
      ]
     },
     "execution_count": 3,
     "metadata": {},
     "output_type": "execute_result"
    }
   ],
   "source": [
    "import pandas as pd\n",
    "df=pd.read_csv(\"../../Data/diamonds.csv\")\n",
    "# preprocessing te data\n",
    "print(df.info())\n",
    "df_ohe=pd.get_dummies(df)\n",
    "df_ohe=df_ohe.iloc[:,1:]\n",
    "df_ohe.shape"
   ]
  },
  {
   "cell_type": "code",
   "execution_count": null,
   "metadata": {},
   "outputs": [
    {
     "data": {
      "text/plain": [
       "array([[-1.19816781, -0.17409151, -1.09967199, ..., -0.54229492,\n",
       "        -0.26960284, -0.32195387],\n",
       "       [-1.24036129, -1.36073849,  1.58552871, ..., -0.54229492,\n",
       "        -0.26960284, -0.32195387],\n",
       "       [-1.19816781, -3.38501862,  3.37566251, ..., -0.54229492,\n",
       "        -0.26960284, -0.32195387],\n",
       "       ...,\n",
       "       [-0.20662095,  0.73334442,  1.13799526, ..., -0.54229492,\n",
       "        -0.26960284, -0.32195387],\n",
       "       [ 0.13092691, -0.52310533,  0.24292836, ..., -0.54229492,\n",
       "        -0.26960284, -0.32195387],\n",
       "       [-0.10113725,  0.31452784, -1.09967199, ..., -0.54229492,\n",
       "        -0.26960284, -0.32195387]])"
      ]
     },
     "execution_count": 34,
     "metadata": {},
     "output_type": "execute_result"
    }
   ],
   "source": [
    "# standardeize the data\n",
    "from sklearn.preprocessing import StandardScaler\n",
    "df_ohe_std=StandardScaler().fit_transform(df_ohe)\n"
   ]
  },
  {
   "cell_type": "markdown",
   "metadata": {},
   "source": [
    "Apply Pca"
   ]
  },
  {
   "cell_type": "code",
   "execution_count": null,
   "metadata": {},
   "outputs": [
    {
     "name": "stdout",
     "output_type": "stream",
     "text": [
      "<class 'numpy.ndarray'>\n"
     ]
    },
    {
     "name": "stderr",
     "output_type": "stream",
     "text": [
      "/Users/namanjain/Documents/Machine learning/myenv/lib/python3.12/site-packages/sklearn/base.py:486: UserWarning: X has feature names, but PCA was fitted without feature names\n",
      "  warnings.warn(\n"
     ]
    },
    {
     "data": {
      "text/html": [
       "<div>\n",
       "<style scoped>\n",
       "    .dataframe tbody tr th:only-of-type {\n",
       "        vertical-align: middle;\n",
       "    }\n",
       "\n",
       "    .dataframe tbody tr th {\n",
       "        vertical-align: top;\n",
       "    }\n",
       "\n",
       "    .dataframe thead th {\n",
       "        text-align: right;\n",
       "    }\n",
       "</style>\n",
       "<table border=\"1\" class=\"dataframe\">\n",
       "  <thead>\n",
       "    <tr style=\"text-align: right;\">\n",
       "      <th></th>\n",
       "      <th>0</th>\n",
       "      <th>1</th>\n",
       "      <th>2</th>\n",
       "      <th>3</th>\n",
       "      <th>4</th>\n",
       "      <th>5</th>\n",
       "      <th>6</th>\n",
       "      <th>7</th>\n",
       "      <th>8</th>\n",
       "      <th>9</th>\n",
       "      <th>...</th>\n",
       "      <th>17</th>\n",
       "      <th>18</th>\n",
       "      <th>19</th>\n",
       "      <th>20</th>\n",
       "      <th>21</th>\n",
       "      <th>22</th>\n",
       "      <th>23</th>\n",
       "      <th>24</th>\n",
       "      <th>25</th>\n",
       "      <th>26</th>\n",
       "    </tr>\n",
       "  </thead>\n",
       "  <tbody>\n",
       "    <tr>\n",
       "      <th>0</th>\n",
       "      <td>139.368885</td>\n",
       "      <td>25.144501</td>\n",
       "      <td>-5.420825</td>\n",
       "      <td>6.682284</td>\n",
       "      <td>11.306783</td>\n",
       "      <td>20.504862</td>\n",
       "      <td>-9.620213</td>\n",
       "      <td>8.350224</td>\n",
       "      <td>6.737622</td>\n",
       "      <td>1.916390</td>\n",
       "      <td>...</td>\n",
       "      <td>-84.608153</td>\n",
       "      <td>56.536472</td>\n",
       "      <td>72.196255</td>\n",
       "      <td>238.389263</td>\n",
       "      <td>17.860011</td>\n",
       "      <td>-120.431990</td>\n",
       "      <td>56.207788</td>\n",
       "      <td>0.352098</td>\n",
       "      <td>0.555683</td>\n",
       "      <td>0.501306</td>\n",
       "    </tr>\n",
       "    <tr>\n",
       "      <th>1</th>\n",
       "      <td>140.048783</td>\n",
       "      <td>20.471983</td>\n",
       "      <td>-6.505641</td>\n",
       "      <td>6.800546</td>\n",
       "      <td>11.702241</td>\n",
       "      <td>19.689144</td>\n",
       "      <td>-10.296138</td>\n",
       "      <td>9.076158</td>\n",
       "      <td>6.523036</td>\n",
       "      <td>2.014340</td>\n",
       "      <td>...</td>\n",
       "      <td>-85.976243</td>\n",
       "      <td>54.466130</td>\n",
       "      <td>75.138316</td>\n",
       "      <td>238.431873</td>\n",
       "      <td>17.726374</td>\n",
       "      <td>-120.466613</td>\n",
       "      <td>56.138576</td>\n",
       "      <td>0.349795</td>\n",
       "      <td>0.487481</td>\n",
       "      <td>0.553152</td>\n",
       "    </tr>\n",
       "    <tr>\n",
       "      <th>2</th>\n",
       "      <td>140.969725</td>\n",
       "      <td>18.279721</td>\n",
       "      <td>-8.095190</td>\n",
       "      <td>7.411139</td>\n",
       "      <td>12.166854</td>\n",
       "      <td>20.267034</td>\n",
       "      <td>-10.089289</td>\n",
       "      <td>9.143613</td>\n",
       "      <td>6.279738</td>\n",
       "      <td>1.072718</td>\n",
       "      <td>...</td>\n",
       "      <td>-87.315191</td>\n",
       "      <td>51.731896</td>\n",
       "      <td>76.435774</td>\n",
       "      <td>239.017348</td>\n",
       "      <td>17.672469</td>\n",
       "      <td>-120.910677</td>\n",
       "      <td>56.233641</td>\n",
       "      <td>0.365415</td>\n",
       "      <td>0.319490</td>\n",
       "      <td>0.461676</td>\n",
       "    </tr>\n",
       "    <tr>\n",
       "      <th>3</th>\n",
       "      <td>143.391140</td>\n",
       "      <td>23.975397</td>\n",
       "      <td>-6.344032</td>\n",
       "      <td>7.044469</td>\n",
       "      <td>11.241817</td>\n",
       "      <td>20.909869</td>\n",
       "      <td>-10.856678</td>\n",
       "      <td>9.923078</td>\n",
       "      <td>7.005992</td>\n",
       "      <td>2.345946</td>\n",
       "      <td>...</td>\n",
       "      <td>-87.054717</td>\n",
       "      <td>57.655352</td>\n",
       "      <td>74.340305</td>\n",
       "      <td>244.034824</td>\n",
       "      <td>18.262555</td>\n",
       "      <td>-123.421220</td>\n",
       "      <td>57.585848</td>\n",
       "      <td>0.258662</td>\n",
       "      <td>0.484718</td>\n",
       "      <td>0.533968</td>\n",
       "    </tr>\n",
       "    <tr>\n",
       "      <th>4</th>\n",
       "      <td>144.068613</td>\n",
       "      <td>24.511410</td>\n",
       "      <td>-5.149434</td>\n",
       "      <td>7.449390</td>\n",
       "      <td>11.592691</td>\n",
       "      <td>20.859298</td>\n",
       "      <td>-10.158744</td>\n",
       "      <td>9.312658</td>\n",
       "      <td>7.421973</td>\n",
       "      <td>1.697815</td>\n",
       "      <td>...</td>\n",
       "      <td>-87.084552</td>\n",
       "      <td>57.782848</td>\n",
       "      <td>74.677709</td>\n",
       "      <td>244.829860</td>\n",
       "      <td>18.373365</td>\n",
       "      <td>-123.854263</td>\n",
       "      <td>57.870899</td>\n",
       "      <td>0.186283</td>\n",
       "      <td>0.310647</td>\n",
       "      <td>0.463584</td>\n",
       "    </tr>\n",
       "  </tbody>\n",
       "</table>\n",
       "<p>5 rows × 27 columns</p>\n",
       "</div>"
      ],
      "text/plain": [
       "           0          1         2         3          4          5          6   \\\n",
       "0  139.368885  25.144501 -5.420825  6.682284  11.306783  20.504862  -9.620213   \n",
       "1  140.048783  20.471983 -6.505641  6.800546  11.702241  19.689144 -10.296138   \n",
       "2  140.969725  18.279721 -8.095190  7.411139  12.166854  20.267034 -10.089289   \n",
       "3  143.391140  23.975397 -6.344032  7.044469  11.241817  20.909869 -10.856678   \n",
       "4  144.068613  24.511410 -5.149434  7.449390  11.592691  20.859298 -10.158744   \n",
       "\n",
       "         7         8         9   ...         17         18         19  \\\n",
       "0  8.350224  6.737622  1.916390  ... -84.608153  56.536472  72.196255   \n",
       "1  9.076158  6.523036  2.014340  ... -85.976243  54.466130  75.138316   \n",
       "2  9.143613  6.279738  1.072718  ... -87.315191  51.731896  76.435774   \n",
       "3  9.923078  7.005992  2.345946  ... -87.054717  57.655352  74.340305   \n",
       "4  9.312658  7.421973  1.697815  ... -87.084552  57.782848  74.677709   \n",
       "\n",
       "           20         21          22         23        24        25        26  \n",
       "0  238.389263  17.860011 -120.431990  56.207788  0.352098  0.555683  0.501306  \n",
       "1  238.431873  17.726374 -120.466613  56.138576  0.349795  0.487481  0.553152  \n",
       "2  239.017348  17.672469 -120.910677  56.233641  0.365415  0.319490  0.461676  \n",
       "3  244.034824  18.262555 -123.421220  57.585848  0.258662  0.484718  0.533968  \n",
       "4  244.829860  18.373365 -123.854263  57.870899  0.186283  0.310647  0.463584  \n",
       "\n",
       "[5 rows x 27 columns]"
      ]
     },
     "execution_count": 10,
     "metadata": {},
     "output_type": "execute_result"
    }
   ],
   "source": [
    "from sklearn.decomposition import PCA\n",
    "pca=PCA(random_state=7)\n",
    "pca.fit(df_ohe_std)\n",
    "trans_data=pca.transform(df_ohe)\n",
    "print(type(trans_data))\n",
    "df_trans=pd.DataFrame(trans_data,index=df_ohe.index)\n",
    "df_trans.head()\n",
    "\n"
   ]
  },
  {
   "cell_type": "code",
   "execution_count": 14,
   "metadata": {},
   "outputs": [
    {
     "data": {
      "text/plain": [
       "array([ 0.43316486,  0.00368549,  0.12153405,  0.39250302,  0.43390141,\n",
       "        0.42719612,  0.42679143,  0.05118021,  0.02706468, -0.11834286,\n",
       "        0.08221848,  0.01344722, -0.0502738 , -0.06822746, -0.02562698,\n",
       "       -0.01864352,  0.0523511 ,  0.07587711,  0.08381851,  0.05225796,\n",
       "       -0.06313514,  0.03967757,  0.13756   , -0.02852057, -0.01941727,\n",
       "       -0.0926597 , -0.0748959 ])"
      ]
     },
     "execution_count": 14,
     "metadata": {},
     "output_type": "execute_result"
    }
   ],
   "source": [
    "pca.components_[0]"
   ]
  },
  {
   "cell_type": "code",
   "execution_count": null,
   "metadata": {},
   "outputs": [
    {
     "data": {
      "text/plain": [
       "array([1.89766900e+01, 7.29817807e+00, 5.72116590e+00, 5.01369290e+00,\n",
       "       4.85897355e+00, 4.81032974e+00, 4.56739263e+00, 4.50643929e+00,\n",
       "       4.41474715e+00, 4.38475439e+00, 4.26784240e+00, 4.11434079e+00,\n",
       "       4.08997234e+00, 3.94138898e+00, 3.83990348e+00, 3.69317821e+00,\n",
       "       3.51941693e+00, 3.03686560e+00, 2.89767501e+00, 1.30488424e+00,\n",
       "       4.60856511e-01, 1.48430007e-01, 9.03643763e-02, 4.25174655e-02,\n",
       "       3.24149917e-13, 3.64428253e-14, 0.00000000e+00])"
      ]
     },
     "execution_count": 15,
     "metadata": {},
     "output_type": "execute_result"
    }
   ],
   "source": [
    "# getting how much percentage of data is explained by a component\n",
    "pca.explained_variance_ratio_*100"
   ]
  },
  {
   "cell_type": "code",
   "execution_count": null,
   "metadata": {},
   "outputs": [
    {
     "data": {
      "text/plain": [
       "[<matplotlib.lines.Line2D at 0x14e7f0440>]"
      ]
     },
     "execution_count": 16,
     "metadata": {},
     "output_type": "execute_result"
    },
    {
     "data": {
      "image/png": "[encoded data removed]",
      "text/plain": [
       "<Figure size 640x480 with 1 Axes>"
      ]
     },
     "metadata": {},
     "output_type": "display_data"
    }
   ],
   "source": [
    "import matplotlib.pyplot as plt\n",
    "plt.plot(list(range(df_ohe.shape[1])),pca.explained_variance_ratio_)\n",
    "\n",
    "# From graph we can say that the no of component required is somewhere bw 18 to 20"
   ]
  },
  {
   "cell_type": "markdown",
   "metadata": {},
   "source": [
    "The automate way to do this is"
   ]
  },
  {
   "cell_type": "markdown",
   "metadata": {},
   "source": []
  },
  {
   "cell_type": "code",
   "execution_count": null,
   "metadata": {},
   "outputs": [
    {
     "data": {
      "text/plain": [
       "(53940, 18)"
      ]
     },
     "execution_count": 17,
     "metadata": {},
     "output_type": "execute_result"
    }
   ],
   "source": [
    "pca1=PCA(n_components=0.95,random_state=7)\n",
    "pca1.fit(df_ohe_std)\n",
    "pca1_transform=pca1.transform(df_ohe_std)\n",
    "pca1_transform.shape\n",
    "\n",
    "\n",
    "# THe output you can see is stating that for getting 95 percent of explain variable you have to select this 18 columns"
   ]
  },
  {
   "cell_type": "code",
   "execution_count": null,
   "metadata": {},
   "outputs": [],
   "source": [
    "# TO see what are those component who is stating the 95 percent of the model \n",
    "#???\n"
   ]
  },
  {
   "cell_type": "code",
   "execution_count": null,
   "metadata": {},
   "outputs": [],
   "source": []
  }
 ],
 "metadata": {
  "kernelspec": {
   "display_name": "myenv",
   "language": "python",
   "name": "python3"
  },
  "language_info": {
   "codemirror_mode": {
    "name": "ipython",
    "version": 3
   },
   "file_extension": ".py",
   "mimetype": "text/x-python",
   "name": "python",
   "nbconvert_exporter": "python",
   "pygments_lexer": "ipython3",
   "version": "3.12.6"
  }
 },
 "nbformat": 4,
 "nbformat_minor": 2
}
