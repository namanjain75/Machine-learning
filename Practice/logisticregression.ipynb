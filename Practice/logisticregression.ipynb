{
 "cells": [
  {
   "cell_type": "code",
   "execution_count": 12,
   "metadata": {},
   "outputs": [
    {
     "name": "stdout",
     "output_type": "stream",
     "text": [
      "(282, 40)\n"
     ]
    }
   ],
   "source": [
    "import pandas as pd\n",
    "df=pd.read_csv(\"../Data/cleaned_76hd.csv\")\n",
    "print(df.shape)"
   ]
  },
  {
   "cell_type": "code",
   "execution_count": 20,
   "metadata": {},
   "outputs": [],
   "source": [
    "x=df.iloc[:,1:39]\n",
    "y=df.loc[:,'V58']\n",
    "\n",
    "from sklearn.model_selection import train_test_split\n",
    "\n",
    "X_train,X_test,Y_train,Y_test=train_test_split(x,y,test_size=0.3,random_state=7,stratify=y)"
   ]
  },
  {
   "cell_type": "code",
   "execution_count": 21,
   "metadata": {},
   "outputs": [
    {
     "data": {
      "text/plain": [
       "((197, 38), (85, 38), (197,), (85,))"
      ]
     },
     "execution_count": 21,
     "metadata": {},
     "output_type": "execute_result"
    }
   ],
   "source": [
    "X_train.shape,X_test.shape,Y_train.shape,Y_test.shape"
   ]
  },
  {
   "cell_type": "markdown",
   "metadata": {},
   "source": [
    "# Decesion treee\n"
   ]
  },
  {
   "cell_type": "code",
   "execution_count": 26,
   "metadata": {},
   "outputs": [
    {
     "data": {
      "text/plain": [
       "((85,), (85,))"
      ]
     },
     "execution_count": 26,
     "metadata": {},
     "output_type": "execute_result"
    }
   ],
   "source": [
    "from sklearn.tree import DecisionTreeClassifier\n",
    "dt=DecisionTreeClassifier(random_state=7)\n",
    "dt.fit(X_train,Y_train)\n",
    "\n",
    "y_predict=dt.predict(X_test)\n",
    "\n",
    "y_predict.shape, Y_test.shape"
   ]
  },
  {
   "cell_type": "code",
   "execution_count": 28,
   "metadata": {},
   "outputs": [
    {
     "name": "stdout",
     "output_type": "stream",
     "text": [
      "(array([0.76190476, 0.6744186 ]), array([0.69565217, 0.74358974]), array([0.72727273, 0.70731707]), array([46, 39]))\n",
      "0.7176470588235294\n",
      "[[32 14]\n",
      " [10 29]]\n",
      "              precision    recall  f1-score   support\n",
      "\n",
      "         0.0       0.76      0.70      0.73        46\n",
      "         1.0       0.67      0.74      0.71        39\n",
      "\n",
      "    accuracy                           0.72        85\n",
      "   macro avg       0.72      0.72      0.72        85\n",
      "weighted avg       0.72      0.72      0.72        85\n",
      "\n"
     ]
    }
   ],
   "source": [
    "from sklearn.metrics import precision_recall_fscore_support\n",
    "from sklearn.metrics import accuracy_score\n",
    "from sklearn.metrics import confusion_matrix\n",
    "from sklearn.metrics import classification_report\n",
    "print(precision_recall_fscore_support(Y_test,y_predict))\n",
    "print(accuracy_score(Y_test,y_predict))\n",
    "print(confusion_matrix(Y_test,y_predict))\n",
    "print(classification_report(Y_test,y_predict))"
   ]
  },
  {
   "cell_type": "markdown",
   "metadata": {},
   "source": [
    "visualise dectsion tree"
   ]
  },
  {
   "cell_type": "markdown",
   "metadata": {},
   "source": []
  },
  {
   "cell_type": "code",
   "execution_count": 29,
   "metadata": {},
   "outputs": [
    {
     "name": "stdout",
     "output_type": "stream",
     "text": [
      "|--- feature_34 <= 0.88\n",
      "|   |--- feature_33 <= 0.17\n",
      "|   |   |--- feature_23 <= 0.19\n",
      "|   |   |   |--- class: 1.0\n",
      "|   |   |--- feature_23 >  0.19\n",
      "|   |   |   |--- feature_3 <= 0.79\n",
      "|   |   |   |   |--- feature_30 <= 0.27\n",
      "|   |   |   |   |   |--- feature_20 <= 0.13\n",
      "|   |   |   |   |   |   |--- feature_22 <= 0.01\n",
      "|   |   |   |   |   |   |   |--- class: 0.0\n",
      "|   |   |   |   |   |   |--- feature_22 >  0.01\n",
      "|   |   |   |   |   |   |   |--- class: 1.0\n",
      "|   |   |   |   |   |--- feature_20 >  0.13\n",
      "|   |   |   |   |   |   |--- feature_24 <= 0.10\n",
      "|   |   |   |   |   |   |   |--- feature_3 <= 0.54\n",
      "|   |   |   |   |   |   |   |   |--- class: 1.0\n",
      "|   |   |   |   |   |   |   |--- feature_3 >  0.54\n",
      "|   |   |   |   |   |   |   |   |--- class: 0.0\n",
      "|   |   |   |   |   |   |--- feature_24 >  0.10\n",
      "|   |   |   |   |   |   |   |--- feature_8 <= 0.50\n",
      "|   |   |   |   |   |   |   |   |--- class: 0.0\n",
      "|   |   |   |   |   |   |   |--- feature_8 >  0.50\n",
      "|   |   |   |   |   |   |   |   |--- feature_24 <= 0.23\n",
      "|   |   |   |   |   |   |   |   |   |--- class: 1.0\n",
      "|   |   |   |   |   |   |   |   |--- feature_24 >  0.23\n",
      "|   |   |   |   |   |   |   |   |   |--- class: 0.0\n",
      "|   |   |   |   |--- feature_30 >  0.27\n",
      "|   |   |   |   |   |--- feature_22 <= 0.06\n",
      "|   |   |   |   |   |   |--- class: 0.0\n",
      "|   |   |   |   |   |--- feature_22 >  0.06\n",
      "|   |   |   |   |   |   |--- class: 1.0\n",
      "|   |   |   |--- feature_3 >  0.79\n",
      "|   |   |   |   |--- feature_12 <= 0.17\n",
      "|   |   |   |   |   |--- class: 1.0\n",
      "|   |   |   |   |--- feature_12 >  0.17\n",
      "|   |   |   |   |   |--- class: 0.0\n",
      "|   |--- feature_33 >  0.17\n",
      "|   |   |--- feature_2 <= 0.02\n",
      "|   |   |   |--- feature_26 <= 0.41\n",
      "|   |   |   |   |--- class: 1.0\n",
      "|   |   |   |--- feature_26 >  0.41\n",
      "|   |   |   |   |--- feature_21 <= 0.56\n",
      "|   |   |   |   |   |--- class: 0.0\n",
      "|   |   |   |   |--- feature_21 >  0.56\n",
      "|   |   |   |   |   |--- feature_24 <= 0.22\n",
      "|   |   |   |   |   |   |--- class: 1.0\n",
      "|   |   |   |   |   |--- feature_24 >  0.22\n",
      "|   |   |   |   |   |   |--- class: 0.0\n",
      "|   |   |--- feature_2 >  0.02\n",
      "|   |   |   |--- feature_1 <= 0.50\n",
      "|   |   |   |   |--- feature_13 <= 0.98\n",
      "|   |   |   |   |   |--- class: 1.0\n",
      "|   |   |   |   |--- feature_13 >  0.98\n",
      "|   |   |   |   |   |--- class: 0.0\n",
      "|   |   |   |--- feature_1 >  0.50\n",
      "|   |   |   |   |--- class: 1.0\n",
      "|--- feature_34 >  0.88\n",
      "|   |--- feature_2 <= 0.02\n",
      "|   |   |--- feature_33 <= 0.17\n",
      "|   |   |   |--- feature_28 <= 0.50\n",
      "|   |   |   |   |--- feature_25 <= 0.95\n",
      "|   |   |   |   |   |--- feature_25 <= 0.61\n",
      "|   |   |   |   |   |   |--- class: 0.0\n",
      "|   |   |   |   |   |--- feature_25 >  0.61\n",
      "|   |   |   |   |   |   |--- feature_27 <= 0.74\n",
      "|   |   |   |   |   |   |   |--- class: 1.0\n",
      "|   |   |   |   |   |   |--- feature_27 >  0.74\n",
      "|   |   |   |   |   |   |   |--- class: 0.0\n",
      "|   |   |   |   |--- feature_25 >  0.95\n",
      "|   |   |   |   |   |--- class: 1.0\n",
      "|   |   |   |--- feature_28 >  0.50\n",
      "|   |   |   |   |--- feature_3 <= 0.56\n",
      "|   |   |   |   |   |--- class: 0.0\n",
      "|   |   |   |   |--- feature_3 >  0.56\n",
      "|   |   |   |   |   |--- class: 1.0\n",
      "|   |   |--- feature_33 >  0.17\n",
      "|   |   |   |--- feature_5 <= 0.07\n",
      "|   |   |   |   |--- class: 0.0\n",
      "|   |   |   |--- feature_5 >  0.07\n",
      "|   |   |   |   |--- class: 1.0\n",
      "|   |--- feature_2 >  0.02\n",
      "|   |   |--- feature_27 <= 0.59\n",
      "|   |   |   |--- class: 0.0\n",
      "|   |   |--- feature_27 >  0.59\n",
      "|   |   |   |--- feature_14 <= 0.50\n",
      "|   |   |   |   |--- feature_5 <= 0.14\n",
      "|   |   |   |   |   |--- feature_26 <= 0.64\n",
      "|   |   |   |   |   |   |--- class: 1.0\n",
      "|   |   |   |   |   |--- feature_26 >  0.64\n",
      "|   |   |   |   |   |   |--- class: 0.0\n",
      "|   |   |   |   |--- feature_5 >  0.14\n",
      "|   |   |   |   |   |--- class: 1.0\n",
      "|   |   |   |--- feature_14 >  0.50\n",
      "|   |   |   |   |--- class: 0.0\n",
      "\n"
     ]
    }
   ],
   "source": [
    "from sklearn.tree import export_text\n",
    "print(export_text(dt))"
   ]
  },
  {
   "cell_type": "markdown",
   "metadata": {},
   "source": [
    "Logistic regression"
   ]
  },
  {
   "cell_type": "markdown",
   "metadata": {},
   "source": []
  },
  {
   "cell_type": "code",
   "execution_count": 30,
   "metadata": {},
   "outputs": [],
   "source": [
    "from sklearn.linear_model import LogisticRegression\n",
    "from sklearn.naive_bayes import GaussianNB, BernoulliNB, MultinomialNB\n",
    "from sklearn.svm import SVC"
   ]
  },
  {
   "cell_type": "code",
   "execution_count": 32,
   "metadata": {},
   "outputs": [],
   "source": [
    "# Evaluating all function using a singl function\n",
    "def eval_model(model,X_train,X_test,y_train,y_test):\n",
    "    model.fit(X_train,y_train)\n",
    "    y_pred = model.predict(X_test)\n",
    "    pre,rec,fs,supp = precision_recall_fscore_support(y_test,y_pred)\n",
    "    acc = accuracy_score(y_test,y_pred)\n",
    "    # print(model.__class__)\n",
    "    # print(prfs)\n",
    "    # print(acc)\n",
    "    return pre,rec,fs,supp,acc"
   ]
  },
  {
   "cell_type": "code",
   "execution_count": 44,
   "metadata": {},
   "outputs": [
    {
     "name": "stdout",
     "output_type": "stream",
     "text": [
      "        pc1       pc2       rc1       rc2       fc1       fc2       acc\n",
      "0  0.761905  0.674419  0.695652  0.743590  0.727273  0.707317  0.717647\n",
      "1  0.813953  0.738095  0.760870  0.794872  0.786517  0.765432  0.776471\n",
      "2  0.647887  1.000000  1.000000  0.358974  0.786325  0.528302  0.705882\n",
      "3  0.829787  0.815789  0.847826  0.794872  0.838710  0.805195  0.823529\n",
      "4  0.822222  0.775000  0.804348  0.794872  0.813187  0.784810  0.800000\n",
      "5  0.808511  0.789474  0.826087  0.769231  0.817204  0.779221  0.800000\n"
     ]
    },
    {
     "name": "stderr",
     "output_type": "stream",
     "text": [
      "/Users/namanjain/Documents/Machine learning/myenv/lib/python3.12/site-packages/sklearn/linear_model/_sag.py:349: ConvergenceWarning: The max_iter was reached which means the coef_ did not converge\n",
      "  warnings.warn(\n"
     ]
    }
   ],
   "source": [
    "model_list = [DecisionTreeClassifier(random_state=7),\n",
    "              LogisticRegression(random_state=7,solver='saga',class_weight='balanced'),\n",
    "              GaussianNB(),\n",
    "              BernoulliNB(),\n",
    "              MultinomialNB(),\n",
    "              SVC(random_state=7,kernel='rbf',gamma='scale')] # deffault gama value ='scale' # kaam gamaa jyda supoer vectors \n",
    "# jyda gamma kamm support vector\n",
    "\n",
    "\n",
    "pc1 = []\n",
    "pc2=[]\n",
    "rc1=[]\n",
    "rc2=[]\n",
    "fc1=[]\n",
    "fc2=[]\n",
    "acc_list=[]\n",
    "for model in model_list:\n",
    "    p,r,f,s,acc = eval_model(model,X_train,X_test,Y_train,Y_test)\n",
    "    pc1.append(p[0])\n",
    "    pc2.append(p[1])\n",
    "    rc1.append(r[0])\n",
    "    rc2.append(r[1])\n",
    "    fc1.append(f[0])\n",
    "    fc2.append(f[1])\n",
    "    acc_list.append(acc)\n",
    "\n",
    "\n",
    "result_dict = {\n",
    "    \"pc1\" : pc1,\n",
    "    \"pc2\" : pc2,\n",
    "    \"rc1\" : rc1,\n",
    "    \"rc2\" : rc2,\n",
    "    \"fc1\" : fc1,\n",
    "    \"fc2\" : fc2,\n",
    "    \"acc\" : acc_list\n",
    "}\n",
    "\n",
    "resultdf=pd.DataFrame(result_dict)\n",
    "\n",
    "print(resultdf)"
   ]
  },
  {
   "cell_type": "code",
   "execution_count": null,
   "metadata": {},
   "outputs": [],
   "source": []
  }
 ],
 "metadata": {
  "kernelspec": {
   "display_name": "myenv",
   "language": "python",
   "name": "python3"
  },
  "language_info": {
   "codemirror_mode": {
    "name": "ipython",
    "version": 3
   },
   "file_extension": ".py",
   "mimetype": "text/x-python",
   "name": "python",
   "nbconvert_exporter": "python",
   "pygments_lexer": "ipython3",
   "version": "3.12.6"
  }
 },
 "nbformat": 4,
 "nbformat_minor": 2
}
